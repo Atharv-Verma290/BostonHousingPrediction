{
 "cells": [
  {
   "cell_type": "code",
   "execution_count": 1,
   "metadata": {},
   "outputs": [],
   "source": [
    "import os \n",
    "import pandas as pd\n",
    "import numpy as np\n",
    "import sys\n",
    "\n",
    "# Add the root directory of your project to the Python path\n",
    "sys.path.append('/Users/atharv/MLProjects/BostonHousingPrediction/boston-housing-prediction')"
   ]
  },
  {
   "cell_type": "code",
   "execution_count": 2,
   "metadata": {},
   "outputs": [],
   "source": [
    "from steps.data_ingestion_step import data_ingestion_step\n",
    "\n",
    "raw_df = data_ingestion_step(\"../data/archive.zip\")"
   ]
  },
  {
   "cell_type": "code",
   "execution_count": null,
   "metadata": {},
   "outputs": [],
   "source": [
    "raw_df.head()"
   ]
  },
  {
   "cell_type": "code",
   "execution_count": 3,
   "metadata": {},
   "outputs": [
    {
     "name": "stderr",
     "output_type": "stream",
     "text": [
      "2025-04-01 15:24:33,358 - INFO - Executing missing value handling strategy.\n",
      "2025-04-01 15:24:33,358 - INFO - Filling missing values using method: mean\n",
      "2025-04-01 15:24:33,367 - INFO - Missing values filled.\n"
     ]
    }
   ],
   "source": [
    "from steps.handle_missing_values_step import handle_missing_values_step\n",
    "filled_data = handle_missing_values_step(raw_df, strategy=\"mean\")"
   ]
  },
  {
   "cell_type": "code",
   "execution_count": null,
   "metadata": {},
   "outputs": [],
   "source": [
    "raw_df.info()"
   ]
  },
  {
   "cell_type": "code",
   "execution_count": null,
   "metadata": {},
   "outputs": [],
   "source": [
    "filled_data.info()"
   ]
  },
  {
   "cell_type": "code",
   "execution_count": 4,
   "metadata": {},
   "outputs": [
    {
     "name": "stderr",
     "output_type": "stream",
     "text": [
      "2025-04-01 15:24:36,652 - INFO - Splitting data using the selected strategy.\n",
      "2025-04-01 15:24:36,653 - INFO - Performing simple train-test split.\n",
      "2025-04-01 15:24:36,655 - INFO - Train-test split completed.\n"
     ]
    }
   ],
   "source": [
    "from steps.data_splitter_step import data_splitter_step\n",
    "X_train, X_test, y_train, y_test = data_splitter_step(filled_data, target_column=\"MEDV\")"
   ]
  },
  {
   "cell_type": "code",
   "execution_count": null,
   "metadata": {},
   "outputs": [],
   "source": [
    "X_train.shape"
   ]
  },
  {
   "cell_type": "code",
   "execution_count": null,
   "metadata": {},
   "outputs": [],
   "source": [
    "X_train.head()"
   ]
  },
  {
   "cell_type": "code",
   "execution_count": null,
   "metadata": {},
   "outputs": [],
   "source": [
    "y_train.head()"
   ]
  },
  {
   "cell_type": "code",
   "execution_count": null,
   "metadata": {},
   "outputs": [],
   "source": [
    "print(type(y_train))"
   ]
  },
  {
   "cell_type": "code",
   "execution_count": 5,
   "metadata": {},
   "outputs": [
    {
     "name": "stderr",
     "output_type": "stream",
     "text": [
      "2025-04-01 15:24:40,190 - INFO - Applying feature engineering strategy.\n",
      "2025-04-01 15:24:40,190 - INFO - Applying Min-Max scaling to features: entire DataFrame with range (0, 1)\n",
      "2025-04-01 15:24:40,196 - INFO - Min-Max scaling completed.\n",
      "2025-04-01 15:24:40,197 - INFO - Applying feature engineering strategy.\n",
      "2025-04-01 15:24:40,197 - INFO - Applying Min-Max scaling to features: entire DataFrame with range (0, 1)\n",
      "2025-04-01 15:24:40,199 - INFO - Min-Max scaling completed.\n"
     ]
    }
   ],
   "source": [
    "from steps.feature_engineering_step import feature_engineering_step\n",
    "\n",
    "X_train_scaled, X_test_scaled = feature_engineering_step(train_df=X_train, test_df= X_test, strategy=\"minmax_scaling\")"
   ]
  },
  {
   "cell_type": "code",
   "execution_count": null,
   "metadata": {},
   "outputs": [],
   "source": [
    "print(type(X_train_scaled))"
   ]
  },
  {
   "cell_type": "code",
   "execution_count": null,
   "metadata": {},
   "outputs": [],
   "source": [
    "X_test_scaled"
   ]
  },
  {
   "cell_type": "code",
   "execution_count": null,
   "metadata": {},
   "outputs": [],
   "source": [
    "X_train_scaled"
   ]
  },
  {
   "cell_type": "code",
   "execution_count": null,
   "metadata": {},
   "outputs": [],
   "source": [
    "X_train_scaled, X_test_scaled = feature_engineering_step(train_df=X_train, test_df= X_test, strategy=\"minmax_scaling\")"
   ]
  },
  {
   "cell_type": "code",
   "execution_count": null,
   "metadata": {},
   "outputs": [],
   "source": [
    "print(type(X_train_scaled))"
   ]
  },
  {
   "cell_type": "code",
   "execution_count": null,
   "metadata": {},
   "outputs": [],
   "source": [
    "X_train_scaled.head()"
   ]
  },
  {
   "cell_type": "code",
   "execution_count": null,
   "metadata": {},
   "outputs": [],
   "source": [
    "X_test_scaled.head()"
   ]
  },
  {
   "cell_type": "code",
   "execution_count": null,
   "metadata": {},
   "outputs": [],
   "source": [
    "type(y_train)"
   ]
  },
  {
   "cell_type": "code",
   "execution_count": 6,
   "metadata": {},
   "outputs": [
    {
     "name": "stderr",
     "output_type": "stream",
     "text": [
      "2025-04-01 15:24:45,414 - INFO - Switching model building strategy.\n",
      "2025-04-01 15:24:45,414 - INFO - Building and training the model using the selected strategy.\n",
      "2025-04-01 15:24:45,414 - INFO - Linear Regression does not use hyperparameters. Proceeding with default configuration.\n",
      "2025-04-01 15:24:45,414 - INFO - Training Linear Regression model.\n",
      "2025-04-01 15:24:45,416 - INFO - Model training completed.\n",
      "2025-04-01 15:24:45,416 - INFO - Switching model building strategy.\n",
      "2025-04-01 15:24:45,416 - INFO - Building and training the model using the selected strategy.\n",
      "2025-04-01 15:24:45,416 - INFO - Performing hyperparameter tuning for Random Forest model.\n",
      "2025-04-01 15:36:09,951 - INFO - Best parameters found: {'criterion': 'poisson', 'max_depth': 20, 'max_features': 'sqrt', 'min_samples_leaf': 1, 'min_samples_split': 2, 'n_estimators': 300} with r2_score: 0.8481342844537115\n",
      "2025-04-01 15:36:09,951 - INFO - Model training completed.\n"
     ]
    }
   ],
   "source": [
    "from steps.model_building_step import model_building_step\n",
    "\n",
    "models = model_building_step(X_train_scaled, y_train)"
   ]
  },
  {
   "cell_type": "code",
   "execution_count": 8,
   "metadata": {},
   "outputs": [
    {
     "name": "stderr",
     "output_type": "stream",
     "text": [
      "2025-04-01 15:36:43,694 - INFO - Evaluating the model using the selected strategy.\n",
      "2025-04-01 15:36:43,695 - INFO - Predicting using the trained model.\n",
      "2025-04-01 15:36:43,724 - INFO - Calculating evaluation metrics.\n",
      "2025-04-01 15:36:43,726 - INFO - Model Evaluation Metrics: {'Mean Squared Error': 10.10974711666349, 'R-Squared': 0.8621406576753108}\n"
     ]
    }
   ],
   "source": [
    "from steps.model_evaluator_step import model_evaluator_step\n",
    "\n",
    "evaluation_metrics = model_evaluator_step(models[1], X_test_scaled, y_test)"
   ]
  },
  {
   "cell_type": "code",
   "execution_count": null,
   "metadata": {},
   "outputs": [],
   "source": [
    "evaluation_metrics"
   ]
  },
  {
   "cell_type": "code",
   "execution_count": null,
   "metadata": {},
   "outputs": [],
   "source": []
  }
 ],
 "metadata": {
  "kernelspec": {
   "display_name": ".venv",
   "language": "python",
   "name": "python3"
  },
  "language_info": {
   "codemirror_mode": {
    "name": "ipython",
    "version": 3
   },
   "file_extension": ".py",
   "mimetype": "text/x-python",
   "name": "python",
   "nbconvert_exporter": "python",
   "pygments_lexer": "ipython3",
   "version": "3.12.0"
  }
 },
 "nbformat": 4,
 "nbformat_minor": 2
}
